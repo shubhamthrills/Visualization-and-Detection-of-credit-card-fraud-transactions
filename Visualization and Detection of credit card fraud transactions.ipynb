{
 "cells": [
  {
   "cell_type": "markdown",
   "metadata": {},
   "source": [
    "<h1><center>Visualization and Detection of credit card fraud transactions</center></h1>"
   ]
  },
  {
   "cell_type": "markdown",
   "metadata": {},
   "source": [
    "## About the Project\n",
    "\n",
    "    In this project we will we analysis the data and then we will build a deep neural network, with as many layers as we want. \n",
    "    The network can be applied to supervised learning problem with binary classification."
   ]
  },
  {
   "cell_type": "markdown",
   "metadata": {},
   "source": [
    "## Team members"
   ]
  },
  {
   "cell_type": "code",
   "execution_count": 37,
   "metadata": {},
   "outputs": [
    {
     "name": "stdout",
     "output_type": "stream",
     "text": [
      "                                               -----------------------\n",
      "                                                 FINAL YEAR PROJECT\n",
      "                                               -----------------------\n",
      "\n",
      "                        -------------------------------------------------------------------\n",
      "                         Title:Visualization and Detection of credit card fraud transactions\n",
      "                        -------------------------------------------------------------------\n",
      "                        |------------------------------------------------------------------|\n",
      "                        |                              MEMBERS                             |\n",
      "                        |------------------------------------------------------------------|\n",
      "                        |        NAME       |   ROLL NUMBER   |   UNIVERSITY ROLL NUMBER   |\n",
      "                        |------------------------------------------------------------------|\n",
      "                        |   SOURAV MONDAL   |       016       |        10900116040         |\n",
      "                        |   SHUBHAM SAGAR   |       025       |        10900116049         |\n",
      "                        |  POULAMI MALAKAR  |       051       |        10900116076         |\n",
      "                        |   NIRIKTA MAJHI   |       135       |        10900216042         |\n",
      "                        |------------------------------------------------------------------|\n"
     ]
    }
   ],
   "source": [
    "from teammembers import *\n",
    "owner()"
   ]
  },
  {
   "cell_type": "markdown",
   "metadata": {},
   "source": [
    "## 1 - Packages\n",
    "\n",
    "Let's first import all the packages that we will need during this assignment. \n",
    "- [numpy](https://www.numpy.org/) is the fundamental package for scientific computing with Python.\n",
    "- [matplotlib](http://matplotlib.org) is a library to plot graphs in Python.\n",
    "- [seaborn](http://seaborn.pydata.org) is a library to plot advanced graphs in Python.\n",
    "- [time] is a library to calculate the running times of a block.\n",
    "- [panda](http://www.pandas.pydata.org) is a common package to interact with a dataset that is stored on an csv file.\n",
    "- DNN provides the functions implemented in the \"Building our Deep Neural Network: Step by Step\".\n",
    "- np.random.seed(1) is used to keep all the random function calls consistent."
   ]
  },
  {
   "cell_type": "code",
   "execution_count": 9,
   "metadata": {},
   "outputs": [],
   "source": [
    "import time\n",
    "import numpy as np\n",
    "import pandas as pd\n",
    "import matplotlib.pyplot as plt\n",
    "import scipy\n",
    "import seaborn as sns\n",
    "from DNN import *"
   ]
  },
  {
   "cell_type": "markdown",
   "metadata": {},
   "source": [
    "## 2 - Dataset\n",
    "\n",
    "    The dataset, hosted on Kaggle, includes credit card transactions made in September 2013 by European cardholders. \n",
    "    The data contains 284,807 transactions that occurred over a two-day period, of which 492 (0.17%) are fraudulent. Each transaction has 30 features, all of which are numerical. The features V1, V2, ..., V28 are the result of a PCA transformation. \n",
    "    To protect confidentiality, background information on these features is not available. The Time feature contains the time elapsed since the first transaction, and the Amount feature contains the transaction amount. The response variable, Class , is 1 in the case of fraud,and 0 otherwise.\n",
    "\n",
    "    I was able to accurately identify fraudulent transactions using a Deep neural network. \n",
    "    I also calculated mutual information values to identify the variables most correlated with fraud and feeded those variable as input in our deep neural network model."
   ]
  },
  {
   "cell_type": "code",
   "execution_count": 10,
   "metadata": {},
   "outputs": [],
   "source": [
    "#Impoting Data Set\n",
    "dataset=pd.read_csv('cc_fraud.csv')"
   ]
  },
  {
   "cell_type": "markdown",
   "metadata": {},
   "source": [
    "## 3.1 Data Analysis"
   ]
  },
  {
   "cell_type": "code",
   "execution_count": 11,
   "metadata": {},
   "outputs": [
    {
     "data": {
      "text/plain": [
       "False"
      ]
     },
     "execution_count": 11,
     "metadata": {},
     "output_type": "execute_result"
    }
   ],
   "source": [
    "#Checking for missing data, if present then replace that cell with mean,median,most frequently used data for that column\n",
    "dataset.isnull().any().any()"
   ]
  },
  {
   "cell_type": "code",
   "execution_count": 12,
   "metadata": {},
   "outputs": [
    {
     "data": {
      "text/plain": [
       "(284807, 31)"
      ]
     },
     "execution_count": 12,
     "metadata": {},
     "output_type": "execute_result"
    }
   ],
   "source": [
    "#Checking DataSet Size\n",
    "dataset.shape"
   ]
  },
  {
   "cell_type": "code",
   "execution_count": 13,
   "metadata": {},
   "outputs": [
    {
     "name": "stdout",
     "output_type": "stream",
     "text": [
      "<class 'pandas.core.frame.DataFrame'>\n",
      "RangeIndex: 284807 entries, 0 to 284806\n",
      "Data columns (total 31 columns):\n",
      "Time      284807 non-null float64\n",
      "V1        284807 non-null float64\n",
      "V2        284807 non-null float64\n",
      "V3        284807 non-null float64\n",
      "V4        284807 non-null float64\n",
      "V5        284807 non-null float64\n",
      "V6        284807 non-null float64\n",
      "V7        284807 non-null float64\n",
      "V8        284807 non-null float64\n",
      "V9        284807 non-null float64\n",
      "V10       284807 non-null float64\n",
      "V11       284807 non-null float64\n",
      "V12       284807 non-null float64\n",
      "V13       284807 non-null float64\n",
      "V14       284807 non-null float64\n",
      "V15       284807 non-null float64\n",
      "V16       284807 non-null float64\n",
      "V17       284807 non-null float64\n",
      "V18       284807 non-null float64\n",
      "V19       284807 non-null float64\n",
      "V20       284807 non-null float64\n",
      "V21       284807 non-null float64\n",
      "V22       284807 non-null float64\n",
      "V23       284807 non-null float64\n",
      "V24       284807 non-null float64\n",
      "V25       284807 non-null float64\n",
      "V26       284807 non-null float64\n",
      "V27       284807 non-null float64\n",
      "V28       284807 non-null float64\n",
      "Amount    284807 non-null float64\n",
      "Class     284807 non-null int64\n",
      "dtypes: float64(30), int64(1)\n",
      "memory usage: 67.4 MB\n"
     ]
    }
   ],
   "source": [
    "#Checking types of variable used\n",
    "dataset.info()"
   ]
  },
  {
   "cell_type": "code",
   "execution_count": 14,
   "metadata": {},
   "outputs": [
    {
     "data": {
      "text/plain": [
       "0    284315\n",
       "1       492\n",
       "Name: Class, dtype: int64"
      ]
     },
     "execution_count": 14,
     "metadata": {},
     "output_type": "execute_result"
    }
   ],
   "source": [
    "#Checking number of fraud transactions(i.e.,1) occured and valid transactions(i.e.,0) occured\n",
    "dataset['Class'].value_counts()"
   ]
  },
  {
   "cell_type": "markdown",
   "metadata": {},
   "source": [
    "#### So from here it is clear that total 492 transactions are fraud"
   ]
  },
  {
   "cell_type": "code",
   "execution_count": 15,
   "metadata": {},
   "outputs": [
    {
     "name": "stdout",
     "output_type": "stream",
     "text": [
      "Dataset:             Time         V1         V2        V3        V4        V5  \\\n",
      "0            0.0  -1.359807  -0.072781  2.536347  1.378155 -0.338321   \n",
      "1            0.0   1.191857   0.266151  0.166480  0.448154  0.060018   \n",
      "2            1.0  -1.358354  -1.340163  1.773209  0.379780 -0.503198   \n",
      "3            1.0  -0.966272  -0.185226  1.792993 -0.863291 -0.010309   \n",
      "4            2.0  -1.158233   0.877737  1.548718  0.403034 -0.407193   \n",
      "...          ...        ...        ...       ...       ...       ...   \n",
      "284802  172786.0 -11.881118  10.071785 -9.834783 -2.066656 -5.364473   \n",
      "284803  172787.0  -0.732789  -0.055080  2.035030 -0.738589  0.868229   \n",
      "284804  172788.0   1.919565  -0.301254 -3.249640 -0.557828  2.630515   \n",
      "284805  172788.0  -0.240440   0.530483  0.702510  0.689799 -0.377961   \n",
      "284806  172792.0  -0.533413  -0.189733  0.703337 -0.506271 -0.012546   \n",
      "\n",
      "              V6        V7        V8        V9  ...       V21       V22  \\\n",
      "0       0.462388  0.239599  0.098698  0.363787  ... -0.018307  0.277838   \n",
      "1      -0.082361 -0.078803  0.085102 -0.255425  ... -0.225775 -0.638672   \n",
      "2       1.800499  0.791461  0.247676 -1.514654  ...  0.247998  0.771679   \n",
      "3       1.247203  0.237609  0.377436 -1.387024  ... -0.108300  0.005274   \n",
      "4       0.095921  0.592941 -0.270533  0.817739  ... -0.009431  0.798278   \n",
      "...          ...       ...       ...       ...  ...       ...       ...   \n",
      "284802 -2.606837 -4.918215  7.305334  1.914428  ...  0.213454  0.111864   \n",
      "284803  1.058415  0.024330  0.294869  0.584800  ...  0.214205  0.924384   \n",
      "284804  3.031260 -0.296827  0.708417  0.432454  ...  0.232045  0.578229   \n",
      "284805  0.623708 -0.686180  0.679145  0.392087  ...  0.265245  0.800049   \n",
      "284806 -0.649617  1.577006 -0.414650  0.486180  ...  0.261057  0.643078   \n",
      "\n",
      "             V23       V24       V25       V26       V27       V28  Amount  \\\n",
      "0      -0.110474  0.066928  0.128539 -0.189115  0.133558 -0.021053  149.62   \n",
      "1       0.101288 -0.339846  0.167170  0.125895 -0.008983  0.014724    2.69   \n",
      "2       0.909412 -0.689281 -0.327642 -0.139097 -0.055353 -0.059752  378.66   \n",
      "3      -0.190321 -1.175575  0.647376 -0.221929  0.062723  0.061458  123.50   \n",
      "4      -0.137458  0.141267 -0.206010  0.502292  0.219422  0.215153   69.99   \n",
      "...          ...       ...       ...       ...       ...       ...     ...   \n",
      "284802  1.014480 -0.509348  1.436807  0.250034  0.943651  0.823731    0.77   \n",
      "284803  0.012463 -1.016226 -0.606624 -0.395255  0.068472 -0.053527   24.79   \n",
      "284804 -0.037501  0.640134  0.265745 -0.087371  0.004455 -0.026561   67.88   \n",
      "284805 -0.163298  0.123205 -0.569159  0.546668  0.108821  0.104533   10.00   \n",
      "284806  0.376777  0.008797 -0.473649 -0.818267 -0.002415  0.013649  217.00   \n",
      "\n",
      "        Class  \n",
      "0           0  \n",
      "1           0  \n",
      "2           0  \n",
      "3           0  \n",
      "4           0  \n",
      "...       ...  \n",
      "284802      0  \n",
      "284803      0  \n",
      "284804      0  \n",
      "284805      0  \n",
      "284806      0  \n",
      "\n",
      "[284807 rows x 31 columns]\n"
     ]
    }
   ],
   "source": [
    "#View Dataset\n",
    "print(\"Dataset:\",dataset)"
   ]
  },
  {
   "cell_type": "code",
   "execution_count": 18,
   "metadata": {},
   "outputs": [
    {
     "data": {
      "text/html": [
       "<div>\n",
       "<style scoped>\n",
       "    .dataframe tbody tr th:only-of-type {\n",
       "        vertical-align: middle;\n",
       "    }\n",
       "\n",
       "    .dataframe tbody tr th {\n",
       "        vertical-align: top;\n",
       "    }\n",
       "\n",
       "    .dataframe thead th {\n",
       "        text-align: right;\n",
       "    }\n",
       "</style>\n",
       "<table border=\"1\" class=\"dataframe\">\n",
       "  <thead>\n",
       "    <tr style=\"text-align: right;\">\n",
       "      <th></th>\n",
       "      <th>Time</th>\n",
       "      <th>V1</th>\n",
       "      <th>V2</th>\n",
       "      <th>V3</th>\n",
       "      <th>V4</th>\n",
       "      <th>V5</th>\n",
       "      <th>V6</th>\n",
       "      <th>V7</th>\n",
       "      <th>V8</th>\n",
       "      <th>V9</th>\n",
       "      <th>...</th>\n",
       "      <th>V20</th>\n",
       "      <th>V21</th>\n",
       "      <th>V22</th>\n",
       "      <th>V23</th>\n",
       "      <th>V24</th>\n",
       "      <th>V25</th>\n",
       "      <th>V26</th>\n",
       "      <th>V27</th>\n",
       "      <th>V28</th>\n",
       "      <th>Amount</th>\n",
       "    </tr>\n",
       "  </thead>\n",
       "  <tbody>\n",
       "    <tr>\n",
       "      <td>0</td>\n",
       "      <td>0.0</td>\n",
       "      <td>-1.359807</td>\n",
       "      <td>-0.072781</td>\n",
       "      <td>2.536347</td>\n",
       "      <td>1.378155</td>\n",
       "      <td>-0.338321</td>\n",
       "      <td>0.462388</td>\n",
       "      <td>0.239599</td>\n",
       "      <td>0.098698</td>\n",
       "      <td>0.363787</td>\n",
       "      <td>...</td>\n",
       "      <td>0.251412</td>\n",
       "      <td>-0.018307</td>\n",
       "      <td>0.277838</td>\n",
       "      <td>-0.110474</td>\n",
       "      <td>0.066928</td>\n",
       "      <td>0.128539</td>\n",
       "      <td>-0.189115</td>\n",
       "      <td>0.133558</td>\n",
       "      <td>-0.021053</td>\n",
       "      <td>149.62</td>\n",
       "    </tr>\n",
       "    <tr>\n",
       "      <td>1</td>\n",
       "      <td>0.0</td>\n",
       "      <td>1.191857</td>\n",
       "      <td>0.266151</td>\n",
       "      <td>0.166480</td>\n",
       "      <td>0.448154</td>\n",
       "      <td>0.060018</td>\n",
       "      <td>-0.082361</td>\n",
       "      <td>-0.078803</td>\n",
       "      <td>0.085102</td>\n",
       "      <td>-0.255425</td>\n",
       "      <td>...</td>\n",
       "      <td>-0.069083</td>\n",
       "      <td>-0.225775</td>\n",
       "      <td>-0.638672</td>\n",
       "      <td>0.101288</td>\n",
       "      <td>-0.339846</td>\n",
       "      <td>0.167170</td>\n",
       "      <td>0.125895</td>\n",
       "      <td>-0.008983</td>\n",
       "      <td>0.014724</td>\n",
       "      <td>2.69</td>\n",
       "    </tr>\n",
       "    <tr>\n",
       "      <td>2</td>\n",
       "      <td>1.0</td>\n",
       "      <td>-1.358354</td>\n",
       "      <td>-1.340163</td>\n",
       "      <td>1.773209</td>\n",
       "      <td>0.379780</td>\n",
       "      <td>-0.503198</td>\n",
       "      <td>1.800499</td>\n",
       "      <td>0.791461</td>\n",
       "      <td>0.247676</td>\n",
       "      <td>-1.514654</td>\n",
       "      <td>...</td>\n",
       "      <td>0.524980</td>\n",
       "      <td>0.247998</td>\n",
       "      <td>0.771679</td>\n",
       "      <td>0.909412</td>\n",
       "      <td>-0.689281</td>\n",
       "      <td>-0.327642</td>\n",
       "      <td>-0.139097</td>\n",
       "      <td>-0.055353</td>\n",
       "      <td>-0.059752</td>\n",
       "      <td>378.66</td>\n",
       "    </tr>\n",
       "    <tr>\n",
       "      <td>3</td>\n",
       "      <td>1.0</td>\n",
       "      <td>-0.966272</td>\n",
       "      <td>-0.185226</td>\n",
       "      <td>1.792993</td>\n",
       "      <td>-0.863291</td>\n",
       "      <td>-0.010309</td>\n",
       "      <td>1.247203</td>\n",
       "      <td>0.237609</td>\n",
       "      <td>0.377436</td>\n",
       "      <td>-1.387024</td>\n",
       "      <td>...</td>\n",
       "      <td>-0.208038</td>\n",
       "      <td>-0.108300</td>\n",
       "      <td>0.005274</td>\n",
       "      <td>-0.190321</td>\n",
       "      <td>-1.175575</td>\n",
       "      <td>0.647376</td>\n",
       "      <td>-0.221929</td>\n",
       "      <td>0.062723</td>\n",
       "      <td>0.061458</td>\n",
       "      <td>123.50</td>\n",
       "    </tr>\n",
       "    <tr>\n",
       "      <td>4</td>\n",
       "      <td>2.0</td>\n",
       "      <td>-1.158233</td>\n",
       "      <td>0.877737</td>\n",
       "      <td>1.548718</td>\n",
       "      <td>0.403034</td>\n",
       "      <td>-0.407193</td>\n",
       "      <td>0.095921</td>\n",
       "      <td>0.592941</td>\n",
       "      <td>-0.270533</td>\n",
       "      <td>0.817739</td>\n",
       "      <td>...</td>\n",
       "      <td>0.408542</td>\n",
       "      <td>-0.009431</td>\n",
       "      <td>0.798278</td>\n",
       "      <td>-0.137458</td>\n",
       "      <td>0.141267</td>\n",
       "      <td>-0.206010</td>\n",
       "      <td>0.502292</td>\n",
       "      <td>0.219422</td>\n",
       "      <td>0.215153</td>\n",
       "      <td>69.99</td>\n",
       "    </tr>\n",
       "    <tr>\n",
       "      <td>...</td>\n",
       "      <td>...</td>\n",
       "      <td>...</td>\n",
       "      <td>...</td>\n",
       "      <td>...</td>\n",
       "      <td>...</td>\n",
       "      <td>...</td>\n",
       "      <td>...</td>\n",
       "      <td>...</td>\n",
       "      <td>...</td>\n",
       "      <td>...</td>\n",
       "      <td>...</td>\n",
       "      <td>...</td>\n",
       "      <td>...</td>\n",
       "      <td>...</td>\n",
       "      <td>...</td>\n",
       "      <td>...</td>\n",
       "      <td>...</td>\n",
       "      <td>...</td>\n",
       "      <td>...</td>\n",
       "      <td>...</td>\n",
       "      <td>...</td>\n",
       "    </tr>\n",
       "    <tr>\n",
       "      <td>284802</td>\n",
       "      <td>172786.0</td>\n",
       "      <td>-11.881118</td>\n",
       "      <td>10.071785</td>\n",
       "      <td>-9.834783</td>\n",
       "      <td>-2.066656</td>\n",
       "      <td>-5.364473</td>\n",
       "      <td>-2.606837</td>\n",
       "      <td>-4.918215</td>\n",
       "      <td>7.305334</td>\n",
       "      <td>1.914428</td>\n",
       "      <td>...</td>\n",
       "      <td>1.475829</td>\n",
       "      <td>0.213454</td>\n",
       "      <td>0.111864</td>\n",
       "      <td>1.014480</td>\n",
       "      <td>-0.509348</td>\n",
       "      <td>1.436807</td>\n",
       "      <td>0.250034</td>\n",
       "      <td>0.943651</td>\n",
       "      <td>0.823731</td>\n",
       "      <td>0.77</td>\n",
       "    </tr>\n",
       "    <tr>\n",
       "      <td>284803</td>\n",
       "      <td>172787.0</td>\n",
       "      <td>-0.732789</td>\n",
       "      <td>-0.055080</td>\n",
       "      <td>2.035030</td>\n",
       "      <td>-0.738589</td>\n",
       "      <td>0.868229</td>\n",
       "      <td>1.058415</td>\n",
       "      <td>0.024330</td>\n",
       "      <td>0.294869</td>\n",
       "      <td>0.584800</td>\n",
       "      <td>...</td>\n",
       "      <td>0.059616</td>\n",
       "      <td>0.214205</td>\n",
       "      <td>0.924384</td>\n",
       "      <td>0.012463</td>\n",
       "      <td>-1.016226</td>\n",
       "      <td>-0.606624</td>\n",
       "      <td>-0.395255</td>\n",
       "      <td>0.068472</td>\n",
       "      <td>-0.053527</td>\n",
       "      <td>24.79</td>\n",
       "    </tr>\n",
       "    <tr>\n",
       "      <td>284804</td>\n",
       "      <td>172788.0</td>\n",
       "      <td>1.919565</td>\n",
       "      <td>-0.301254</td>\n",
       "      <td>-3.249640</td>\n",
       "      <td>-0.557828</td>\n",
       "      <td>2.630515</td>\n",
       "      <td>3.031260</td>\n",
       "      <td>-0.296827</td>\n",
       "      <td>0.708417</td>\n",
       "      <td>0.432454</td>\n",
       "      <td>...</td>\n",
       "      <td>0.001396</td>\n",
       "      <td>0.232045</td>\n",
       "      <td>0.578229</td>\n",
       "      <td>-0.037501</td>\n",
       "      <td>0.640134</td>\n",
       "      <td>0.265745</td>\n",
       "      <td>-0.087371</td>\n",
       "      <td>0.004455</td>\n",
       "      <td>-0.026561</td>\n",
       "      <td>67.88</td>\n",
       "    </tr>\n",
       "    <tr>\n",
       "      <td>284805</td>\n",
       "      <td>172788.0</td>\n",
       "      <td>-0.240440</td>\n",
       "      <td>0.530483</td>\n",
       "      <td>0.702510</td>\n",
       "      <td>0.689799</td>\n",
       "      <td>-0.377961</td>\n",
       "      <td>0.623708</td>\n",
       "      <td>-0.686180</td>\n",
       "      <td>0.679145</td>\n",
       "      <td>0.392087</td>\n",
       "      <td>...</td>\n",
       "      <td>0.127434</td>\n",
       "      <td>0.265245</td>\n",
       "      <td>0.800049</td>\n",
       "      <td>-0.163298</td>\n",
       "      <td>0.123205</td>\n",
       "      <td>-0.569159</td>\n",
       "      <td>0.546668</td>\n",
       "      <td>0.108821</td>\n",
       "      <td>0.104533</td>\n",
       "      <td>10.00</td>\n",
       "    </tr>\n",
       "    <tr>\n",
       "      <td>284806</td>\n",
       "      <td>172792.0</td>\n",
       "      <td>-0.533413</td>\n",
       "      <td>-0.189733</td>\n",
       "      <td>0.703337</td>\n",
       "      <td>-0.506271</td>\n",
       "      <td>-0.012546</td>\n",
       "      <td>-0.649617</td>\n",
       "      <td>1.577006</td>\n",
       "      <td>-0.414650</td>\n",
       "      <td>0.486180</td>\n",
       "      <td>...</td>\n",
       "      <td>0.382948</td>\n",
       "      <td>0.261057</td>\n",
       "      <td>0.643078</td>\n",
       "      <td>0.376777</td>\n",
       "      <td>0.008797</td>\n",
       "      <td>-0.473649</td>\n",
       "      <td>-0.818267</td>\n",
       "      <td>-0.002415</td>\n",
       "      <td>0.013649</td>\n",
       "      <td>217.00</td>\n",
       "    </tr>\n",
       "  </tbody>\n",
       "</table>\n",
       "<p>284807 rows × 30 columns</p>\n",
       "</div>"
      ],
      "text/plain": [
       "            Time         V1         V2        V3        V4        V5  \\\n",
       "0            0.0  -1.359807  -0.072781  2.536347  1.378155 -0.338321   \n",
       "1            0.0   1.191857   0.266151  0.166480  0.448154  0.060018   \n",
       "2            1.0  -1.358354  -1.340163  1.773209  0.379780 -0.503198   \n",
       "3            1.0  -0.966272  -0.185226  1.792993 -0.863291 -0.010309   \n",
       "4            2.0  -1.158233   0.877737  1.548718  0.403034 -0.407193   \n",
       "...          ...        ...        ...       ...       ...       ...   \n",
       "284802  172786.0 -11.881118  10.071785 -9.834783 -2.066656 -5.364473   \n",
       "284803  172787.0  -0.732789  -0.055080  2.035030 -0.738589  0.868229   \n",
       "284804  172788.0   1.919565  -0.301254 -3.249640 -0.557828  2.630515   \n",
       "284805  172788.0  -0.240440   0.530483  0.702510  0.689799 -0.377961   \n",
       "284806  172792.0  -0.533413  -0.189733  0.703337 -0.506271 -0.012546   \n",
       "\n",
       "              V6        V7        V8        V9  ...       V20       V21  \\\n",
       "0       0.462388  0.239599  0.098698  0.363787  ...  0.251412 -0.018307   \n",
       "1      -0.082361 -0.078803  0.085102 -0.255425  ... -0.069083 -0.225775   \n",
       "2       1.800499  0.791461  0.247676 -1.514654  ...  0.524980  0.247998   \n",
       "3       1.247203  0.237609  0.377436 -1.387024  ... -0.208038 -0.108300   \n",
       "4       0.095921  0.592941 -0.270533  0.817739  ...  0.408542 -0.009431   \n",
       "...          ...       ...       ...       ...  ...       ...       ...   \n",
       "284802 -2.606837 -4.918215  7.305334  1.914428  ...  1.475829  0.213454   \n",
       "284803  1.058415  0.024330  0.294869  0.584800  ...  0.059616  0.214205   \n",
       "284804  3.031260 -0.296827  0.708417  0.432454  ...  0.001396  0.232045   \n",
       "284805  0.623708 -0.686180  0.679145  0.392087  ...  0.127434  0.265245   \n",
       "284806 -0.649617  1.577006 -0.414650  0.486180  ...  0.382948  0.261057   \n",
       "\n",
       "             V22       V23       V24       V25       V26       V27       V28  \\\n",
       "0       0.277838 -0.110474  0.066928  0.128539 -0.189115  0.133558 -0.021053   \n",
       "1      -0.638672  0.101288 -0.339846  0.167170  0.125895 -0.008983  0.014724   \n",
       "2       0.771679  0.909412 -0.689281 -0.327642 -0.139097 -0.055353 -0.059752   \n",
       "3       0.005274 -0.190321 -1.175575  0.647376 -0.221929  0.062723  0.061458   \n",
       "4       0.798278 -0.137458  0.141267 -0.206010  0.502292  0.219422  0.215153   \n",
       "...          ...       ...       ...       ...       ...       ...       ...   \n",
       "284802  0.111864  1.014480 -0.509348  1.436807  0.250034  0.943651  0.823731   \n",
       "284803  0.924384  0.012463 -1.016226 -0.606624 -0.395255  0.068472 -0.053527   \n",
       "284804  0.578229 -0.037501  0.640134  0.265745 -0.087371  0.004455 -0.026561   \n",
       "284805  0.800049 -0.163298  0.123205 -0.569159  0.546668  0.108821  0.104533   \n",
       "284806  0.643078  0.376777  0.008797 -0.473649 -0.818267 -0.002415  0.013649   \n",
       "\n",
       "        Amount  \n",
       "0       149.62  \n",
       "1         2.69  \n",
       "2       378.66  \n",
       "3       123.50  \n",
       "4        69.99  \n",
       "...        ...  \n",
       "284802    0.77  \n",
       "284803   24.79  \n",
       "284804   67.88  \n",
       "284805   10.00  \n",
       "284806  217.00  \n",
       "\n",
       "[284807 rows x 30 columns]"
      ]
     },
     "execution_count": 18,
     "metadata": {},
     "output_type": "execute_result"
    }
   ],
   "source": [
    "#Spliting off a test data set. First split the data into features and response variable\n",
    "X = dataset.drop(labels='Class', axis=1) # Features\n",
    "#del dataset                        # Delete the original data\n",
    "#Viewing the Splited Feature set\n",
    "X"
   ]
  },
  {
   "cell_type": "code",
   "execution_count": 19,
   "metadata": {},
   "outputs": [
    {
     "data": {
      "text/plain": [
       "0         0\n",
       "1         0\n",
       "2         0\n",
       "3         0\n",
       "4         0\n",
       "         ..\n",
       "284802    0\n",
       "284803    0\n",
       "284804    0\n",
       "284805    0\n",
       "284806    0\n",
       "Name: Class, Length: 284807, dtype: int64"
      ]
     },
     "execution_count": 19,
     "metadata": {},
     "output_type": "execute_result"
    }
   ],
   "source": [
    "# Making Response Set\n",
    "Y = dataset.loc[:,'Class']               \n",
    "#Viewing Responce set \n",
    "Y"
   ]
  },
  {
   "cell_type": "code",
   "execution_count": 21,
   "metadata": {},
   "outputs": [
    {
     "data": {
      "text/html": [
       "<div>\n",
       "<style scoped>\n",
       "    .dataframe tbody tr th:only-of-type {\n",
       "        vertical-align: middle;\n",
       "    }\n",
       "\n",
       "    .dataframe tbody tr th {\n",
       "        vertical-align: top;\n",
       "    }\n",
       "\n",
       "    .dataframe thead th {\n",
       "        text-align: right;\n",
       "    }\n",
       "</style>\n",
       "<table border=\"1\" class=\"dataframe\">\n",
       "  <thead>\n",
       "    <tr style=\"text-align: right;\">\n",
       "      <th></th>\n",
       "      <th>Time</th>\n",
       "      <th>V1</th>\n",
       "      <th>V2</th>\n",
       "      <th>V3</th>\n",
       "      <th>V4</th>\n",
       "      <th>V5</th>\n",
       "      <th>V6</th>\n",
       "      <th>V7</th>\n",
       "      <th>V8</th>\n",
       "      <th>V9</th>\n",
       "      <th>...</th>\n",
       "      <th>V20</th>\n",
       "      <th>V21</th>\n",
       "      <th>V22</th>\n",
       "      <th>V23</th>\n",
       "      <th>V24</th>\n",
       "      <th>V25</th>\n",
       "      <th>V26</th>\n",
       "      <th>V27</th>\n",
       "      <th>V28</th>\n",
       "      <th>Amount</th>\n",
       "    </tr>\n",
       "  </thead>\n",
       "  <tbody>\n",
       "    <tr>\n",
       "      <td>68806</td>\n",
       "      <td>53150.0</td>\n",
       "      <td>-1.115047</td>\n",
       "      <td>1.035583</td>\n",
       "      <td>0.800712</td>\n",
       "      <td>-1.060398</td>\n",
       "      <td>0.032621</td>\n",
       "      <td>0.853422</td>\n",
       "      <td>-0.614243</td>\n",
       "      <td>-3.231161</td>\n",
       "      <td>1.539948</td>\n",
       "      <td>...</td>\n",
       "      <td>-0.644896</td>\n",
       "      <td>3.020385</td>\n",
       "      <td>-0.539618</td>\n",
       "      <td>0.033156</td>\n",
       "      <td>-0.774946</td>\n",
       "      <td>0.105868</td>\n",
       "      <td>-0.430853</td>\n",
       "      <td>0.229737</td>\n",
       "      <td>-0.070591</td>\n",
       "      <td>12.95</td>\n",
       "    </tr>\n",
       "    <tr>\n",
       "      <td>40018</td>\n",
       "      <td>40060.0</td>\n",
       "      <td>1.228473</td>\n",
       "      <td>-0.138826</td>\n",
       "      <td>0.473795</td>\n",
       "      <td>-0.166381</td>\n",
       "      <td>-0.453564</td>\n",
       "      <td>-0.190135</td>\n",
       "      <td>-0.355309</td>\n",
       "      <td>0.048598</td>\n",
       "      <td>0.128943</td>\n",
       "      <td>...</td>\n",
       "      <td>0.032481</td>\n",
       "      <td>-0.172147</td>\n",
       "      <td>-0.574730</td>\n",
       "      <td>0.036834</td>\n",
       "      <td>-0.303782</td>\n",
       "      <td>0.073315</td>\n",
       "      <td>0.810356</td>\n",
       "      <td>-0.069178</td>\n",
       "      <td>0.001890</td>\n",
       "      <td>25.57</td>\n",
       "    </tr>\n",
       "    <tr>\n",
       "      <td>250360</td>\n",
       "      <td>154865.0</td>\n",
       "      <td>1.926148</td>\n",
       "      <td>-0.198628</td>\n",
       "      <td>-0.286727</td>\n",
       "      <td>1.596852</td>\n",
       "      <td>-0.488963</td>\n",
       "      <td>-0.311405</td>\n",
       "      <td>-0.303207</td>\n",
       "      <td>0.035513</td>\n",
       "      <td>1.301312</td>\n",
       "      <td>...</td>\n",
       "      <td>-0.355216</td>\n",
       "      <td>-0.528432</td>\n",
       "      <td>-1.251300</td>\n",
       "      <td>0.455607</td>\n",
       "      <td>-0.120530</td>\n",
       "      <td>-0.361515</td>\n",
       "      <td>-1.099295</td>\n",
       "      <td>0.052747</td>\n",
       "      <td>-0.032622</td>\n",
       "      <td>6.90</td>\n",
       "    </tr>\n",
       "    <tr>\n",
       "      <td>234820</td>\n",
       "      <td>148130.0</td>\n",
       "      <td>2.046232</td>\n",
       "      <td>0.196183</td>\n",
       "      <td>-1.704650</td>\n",
       "      <td>0.530027</td>\n",
       "      <td>0.177496</td>\n",
       "      <td>-1.443091</td>\n",
       "      <td>0.255403</td>\n",
       "      <td>-0.365759</td>\n",
       "      <td>0.602945</td>\n",
       "      <td>...</td>\n",
       "      <td>-0.216247</td>\n",
       "      <td>0.201104</td>\n",
       "      <td>0.757245</td>\n",
       "      <td>-0.013600</td>\n",
       "      <td>-0.079318</td>\n",
       "      <td>0.234805</td>\n",
       "      <td>-0.098151</td>\n",
       "      <td>0.000028</td>\n",
       "      <td>-0.031675</td>\n",
       "      <td>4.55</td>\n",
       "    </tr>\n",
       "    <tr>\n",
       "      <td>10001</td>\n",
       "      <td>15014.0</td>\n",
       "      <td>-0.837077</td>\n",
       "      <td>1.034710</td>\n",
       "      <td>2.333129</td>\n",
       "      <td>3.103776</td>\n",
       "      <td>0.229143</td>\n",
       "      <td>0.501123</td>\n",
       "      <td>0.314283</td>\n",
       "      <td>-0.161583</td>\n",
       "      <td>0.409634</td>\n",
       "      <td>...</td>\n",
       "      <td>-0.134542</td>\n",
       "      <td>-0.363839</td>\n",
       "      <td>-0.458101</td>\n",
       "      <td>0.164097</td>\n",
       "      <td>0.234167</td>\n",
       "      <td>-0.418734</td>\n",
       "      <td>-0.074078</td>\n",
       "      <td>-0.355165</td>\n",
       "      <td>-0.169616</td>\n",
       "      <td>3.79</td>\n",
       "    </tr>\n",
       "    <tr>\n",
       "      <td>...</td>\n",
       "      <td>...</td>\n",
       "      <td>...</td>\n",
       "      <td>...</td>\n",
       "      <td>...</td>\n",
       "      <td>...</td>\n",
       "      <td>...</td>\n",
       "      <td>...</td>\n",
       "      <td>...</td>\n",
       "      <td>...</td>\n",
       "      <td>...</td>\n",
       "      <td>...</td>\n",
       "      <td>...</td>\n",
       "      <td>...</td>\n",
       "      <td>...</td>\n",
       "      <td>...</td>\n",
       "      <td>...</td>\n",
       "      <td>...</td>\n",
       "      <td>...</td>\n",
       "      <td>...</td>\n",
       "      <td>...</td>\n",
       "      <td>...</td>\n",
       "    </tr>\n",
       "    <tr>\n",
       "      <td>211543</td>\n",
       "      <td>138459.0</td>\n",
       "      <td>-1.321976</td>\n",
       "      <td>1.138686</td>\n",
       "      <td>-0.940861</td>\n",
       "      <td>0.154160</td>\n",
       "      <td>0.109802</td>\n",
       "      <td>-0.538822</td>\n",
       "      <td>0.490058</td>\n",
       "      <td>0.513762</td>\n",
       "      <td>-0.493834</td>\n",
       "      <td>...</td>\n",
       "      <td>-0.436962</td>\n",
       "      <td>-0.012778</td>\n",
       "      <td>-0.237503</td>\n",
       "      <td>0.008713</td>\n",
       "      <td>-0.767844</td>\n",
       "      <td>-0.397162</td>\n",
       "      <td>0.316379</td>\n",
       "      <td>-0.463125</td>\n",
       "      <td>-0.010589</td>\n",
       "      <td>49.89</td>\n",
       "    </tr>\n",
       "    <tr>\n",
       "      <td>86293</td>\n",
       "      <td>61167.0</td>\n",
       "      <td>-0.627810</td>\n",
       "      <td>0.918729</td>\n",
       "      <td>1.478453</td>\n",
       "      <td>0.213171</td>\n",
       "      <td>0.933695</td>\n",
       "      <td>1.261486</td>\n",
       "      <td>0.504752</td>\n",
       "      <td>0.404286</td>\n",
       "      <td>-0.939740</td>\n",
       "      <td>...</td>\n",
       "      <td>0.088281</td>\n",
       "      <td>-0.051356</td>\n",
       "      <td>-0.004245</td>\n",
       "      <td>0.090535</td>\n",
       "      <td>-0.964599</td>\n",
       "      <td>-0.522294</td>\n",
       "      <td>0.296733</td>\n",
       "      <td>0.145939</td>\n",
       "      <td>0.110400</td>\n",
       "      <td>24.99</td>\n",
       "    </tr>\n",
       "    <tr>\n",
       "      <td>122579</td>\n",
       "      <td>76616.0</td>\n",
       "      <td>1.512602</td>\n",
       "      <td>-0.949435</td>\n",
       "      <td>-0.219062</td>\n",
       "      <td>-1.638850</td>\n",
       "      <td>-0.856348</td>\n",
       "      <td>-0.465996</td>\n",
       "      <td>-0.669193</td>\n",
       "      <td>-0.135566</td>\n",
       "      <td>-2.284345</td>\n",
       "      <td>...</td>\n",
       "      <td>-0.279028</td>\n",
       "      <td>-0.558803</td>\n",
       "      <td>-1.377240</td>\n",
       "      <td>0.080444</td>\n",
       "      <td>-0.579511</td>\n",
       "      <td>0.297851</td>\n",
       "      <td>-0.495367</td>\n",
       "      <td>-0.001415</td>\n",
       "      <td>0.003665</td>\n",
       "      <td>34.90</td>\n",
       "    </tr>\n",
       "    <tr>\n",
       "      <td>152315</td>\n",
       "      <td>97253.0</td>\n",
       "      <td>1.798863</td>\n",
       "      <td>-1.699791</td>\n",
       "      <td>-0.142182</td>\n",
       "      <td>-0.619533</td>\n",
       "      <td>-1.570248</td>\n",
       "      <td>0.083268</td>\n",
       "      <td>-1.501980</td>\n",
       "      <td>0.176287</td>\n",
       "      <td>1.755507</td>\n",
       "      <td>...</td>\n",
       "      <td>0.146098</td>\n",
       "      <td>0.181914</td>\n",
       "      <td>0.351358</td>\n",
       "      <td>0.115638</td>\n",
       "      <td>-0.566188</td>\n",
       "      <td>-0.596200</td>\n",
       "      <td>-0.295152</td>\n",
       "      <td>-0.033616</td>\n",
       "      <td>-0.032471</td>\n",
       "      <td>171.31</td>\n",
       "    </tr>\n",
       "    <tr>\n",
       "      <td>117952</td>\n",
       "      <td>74887.0</td>\n",
       "      <td>-0.589400</td>\n",
       "      <td>0.747828</td>\n",
       "      <td>1.784781</td>\n",
       "      <td>0.899612</td>\n",
       "      <td>0.257067</td>\n",
       "      <td>-0.001301</td>\n",
       "      <td>0.122334</td>\n",
       "      <td>0.034736</td>\n",
       "      <td>-0.283998</td>\n",
       "      <td>...</td>\n",
       "      <td>0.047357</td>\n",
       "      <td>-0.008910</td>\n",
       "      <td>0.000367</td>\n",
       "      <td>-0.238139</td>\n",
       "      <td>-0.463529</td>\n",
       "      <td>-0.243573</td>\n",
       "      <td>-0.370920</td>\n",
       "      <td>0.086592</td>\n",
       "      <td>0.118084</td>\n",
       "      <td>15.99</td>\n",
       "    </tr>\n",
       "  </tbody>\n",
       "</table>\n",
       "<p>227845 rows × 30 columns</p>\n",
       "</div>"
      ],
      "text/plain": [
       "            Time        V1        V2        V3        V4        V5        V6  \\\n",
       "68806    53150.0 -1.115047  1.035583  0.800712 -1.060398  0.032621  0.853422   \n",
       "40018    40060.0  1.228473 -0.138826  0.473795 -0.166381 -0.453564 -0.190135   \n",
       "250360  154865.0  1.926148 -0.198628 -0.286727  1.596852 -0.488963 -0.311405   \n",
       "234820  148130.0  2.046232  0.196183 -1.704650  0.530027  0.177496 -1.443091   \n",
       "10001    15014.0 -0.837077  1.034710  2.333129  3.103776  0.229143  0.501123   \n",
       "...          ...       ...       ...       ...       ...       ...       ...   \n",
       "211543  138459.0 -1.321976  1.138686 -0.940861  0.154160  0.109802 -0.538822   \n",
       "86293    61167.0 -0.627810  0.918729  1.478453  0.213171  0.933695  1.261486   \n",
       "122579   76616.0  1.512602 -0.949435 -0.219062 -1.638850 -0.856348 -0.465996   \n",
       "152315   97253.0  1.798863 -1.699791 -0.142182 -0.619533 -1.570248  0.083268   \n",
       "117952   74887.0 -0.589400  0.747828  1.784781  0.899612  0.257067 -0.001301   \n",
       "\n",
       "              V7        V8        V9  ...       V20       V21       V22  \\\n",
       "68806  -0.614243 -3.231161  1.539948  ... -0.644896  3.020385 -0.539618   \n",
       "40018  -0.355309  0.048598  0.128943  ...  0.032481 -0.172147 -0.574730   \n",
       "250360 -0.303207  0.035513  1.301312  ... -0.355216 -0.528432 -1.251300   \n",
       "234820  0.255403 -0.365759  0.602945  ... -0.216247  0.201104  0.757245   \n",
       "10001   0.314283 -0.161583  0.409634  ... -0.134542 -0.363839 -0.458101   \n",
       "...          ...       ...       ...  ...       ...       ...       ...   \n",
       "211543  0.490058  0.513762 -0.493834  ... -0.436962 -0.012778 -0.237503   \n",
       "86293   0.504752  0.404286 -0.939740  ...  0.088281 -0.051356 -0.004245   \n",
       "122579 -0.669193 -0.135566 -2.284345  ... -0.279028 -0.558803 -1.377240   \n",
       "152315 -1.501980  0.176287  1.755507  ...  0.146098  0.181914  0.351358   \n",
       "117952  0.122334  0.034736 -0.283998  ...  0.047357 -0.008910  0.000367   \n",
       "\n",
       "             V23       V24       V25       V26       V27       V28  Amount  \n",
       "68806   0.033156 -0.774946  0.105868 -0.430853  0.229737 -0.070591   12.95  \n",
       "40018   0.036834 -0.303782  0.073315  0.810356 -0.069178  0.001890   25.57  \n",
       "250360  0.455607 -0.120530 -0.361515 -1.099295  0.052747 -0.032622    6.90  \n",
       "234820 -0.013600 -0.079318  0.234805 -0.098151  0.000028 -0.031675    4.55  \n",
       "10001   0.164097  0.234167 -0.418734 -0.074078 -0.355165 -0.169616    3.79  \n",
       "...          ...       ...       ...       ...       ...       ...     ...  \n",
       "211543  0.008713 -0.767844 -0.397162  0.316379 -0.463125 -0.010589   49.89  \n",
       "86293   0.090535 -0.964599 -0.522294  0.296733  0.145939  0.110400   24.99  \n",
       "122579  0.080444 -0.579511  0.297851 -0.495367 -0.001415  0.003665   34.90  \n",
       "152315  0.115638 -0.566188 -0.596200 -0.295152 -0.033616 -0.032471  171.31  \n",
       "117952 -0.238139 -0.463529 -0.243573 -0.370920  0.086592  0.118084   15.99  \n",
       "\n",
       "[227845 rows x 30 columns]"
      ]
     },
     "execution_count": 21,
     "metadata": {},
     "output_type": "execute_result"
    }
   ],
   "source": [
    "#Spliting into Training and test set\n",
    "from sklearn.model_selection import train_test_split\n",
    "X_train, X_test, y_train, y_test = train_test_split(X, Y, test_size=0.2, random_state=0)\n",
    "#Viewing splited Training set\n",
    "X_train"
   ]
  },
  {
   "cell_type": "markdown",
   "metadata": {},
   "source": [
    "### Exploratory Data Analysis"
   ]
  },
  {
   "cell_type": "code",
   "execution_count": 22,
   "metadata": {},
   "outputs": [
    {
     "name": "stderr",
     "output_type": "stream",
     "text": [
      "C:\\Users\\shubh\\Anaconda3\\lib\\site-packages\\pandas\\core\\indexing.py:576: SettingWithCopyWarning: \n",
      "A value is trying to be set on a copy of a slice from a DataFrame.\n",
      "Try using .loc[row_indexer,col_indexer] = value instead\n",
      "\n",
      "See the caveats in the documentation: http://pandas.pydata.org/pandas-docs/stable/user_guide/indexing.html#returning-a-view-versus-a-copy\n",
      "  self.obj[item_labels[indexer[info_axis]]] = value\n"
     ]
    },
    {
     "data": {
      "text/plain": [
       "Text(0.5, 1.0, 'Transaction Times')"
      ]
     },
     "execution_count": 22,
     "metadata": {},
     "output_type": "execute_result"
    },
    {
     "data": {
      "image/png": "[encoded data removed]",
      "text/plain": [
       "<Figure size 1152x288 with 1 Axes>"
      ]
     },
     "metadata": {
      "needs_background": "light"
     },
     "output_type": "display_data"
    }
   ],
   "source": [
    "#Converting the time (seconds to hours) to ease the interpretation\n",
    "\n",
    "X_train.loc[:,'Time'] = X_train.Time / 3600       #Converting into hrs\n",
    "X_test.loc[:,'Time'] = X_test.Time / 3600\n",
    "\n",
    "#Now Plot a histogram of transaction times, with one bin per hour:\n",
    "\n",
    "plt.figure(figsize=(16,4))\n",
    "sns.distplot(X_train['Time'])\n",
    "plt.xlim([0,48])\n",
    "plt.xlabel('Time After First Transaction (hr)')\n",
    "plt.ylabel('Count')\n",
    "plt.title('Transaction Times')"
   ]
  },
  {
   "cell_type": "markdown",
   "metadata": {},
   "source": [
    "### It looks like there are two lulls in credit card transactions during night time on each day."
   ]
  },
  {
   "cell_type": "code",
   "execution_count": 23,
   "metadata": {},
   "outputs": [
    {
     "data": {
      "text/plain": [
       "Text(0.5, 1.0, 'Transaction Amounts')"
      ]
     },
     "execution_count": 23,
     "metadata": {},
     "output_type": "execute_result"
    },
    {
     "data": {
      "image/png": "[encoded data removed]",
      "text/plain": [
       "<Figure size 960x320 with 1 Axes>"
      ]
     },
     "metadata": {
      "needs_background": "light"
     },
     "output_type": "display_data"
    }
   ],
   "source": [
    "#Now Plotting Amount Graph\n",
    "plt.figure(figsize=(12,4), dpi=80)\n",
    "sns.distplot(X_train['Amount'], bins=300, kde=False)\n",
    "plt.ylabel('Count')\n",
    "plt.title('Transaction Amounts')"
   ]
  },
  {
   "cell_type": "markdown",
   "metadata": {},
   "source": [
    "###  The histogram is hard to read due to some outliers we can't see."
   ]
  },
  {
   "cell_type": "code",
   "execution_count": 24,
   "metadata": {},
   "outputs": [
    {
     "data": {
      "text/plain": [
       "Text(0.5, 1.0, 'Transaction Amounts')"
      ]
     },
     "execution_count": 24,
     "metadata": {},
     "output_type": "execute_result"
    },
    {
     "data": {
      "image/png": "[encoded data removed]",
      "text/plain": [
       "<Figure size 1280x320 with 1 Axes>"
      ]
     },
     "metadata": {
      "needs_background": "light"
     },
     "output_type": "display_data"
    }
   ],
   "source": [
    "#So Ploting A boxplot which will show the outliers:\n",
    "plt.figure(figsize=(16,4), dpi=80)\n",
    "sns.boxplot(X_train['Amount'])\n",
    "plt.title('Transaction Amounts')"
   ]
  },
  {
   "cell_type": "markdown",
   "metadata": {},
   "source": [
    "### From graph it is clear that  amounts is certainly seem right-skewed"
   ]
  },
  {
   "cell_type": "code",
   "execution_count": 25,
   "metadata": {},
   "outputs": [
    {
     "name": "stdout",
     "output_type": "stream",
     "text": [
      "Mutual Information between Fraud and the Predictors\n"
     ]
    },
    {
     "data": {
      "text/plain": [
       "V17       0.008192\n",
       "V14       0.007960\n",
       "V12       0.007549\n",
       "V10       0.007354\n",
       "V11       0.006835\n",
       "V16       0.006145\n",
       "V4        0.004939\n",
       "V3        0.004886\n",
       "V18       0.004292\n",
       "V9        0.004201\n",
       "V7        0.003855\n",
       "V2        0.003243\n",
       "V21       0.002561\n",
       "V5        0.002481\n",
       "V27       0.002386\n",
       "V6        0.002358\n",
       "V1        0.002234\n",
       "V8        0.002009\n",
       "Time      0.002007\n",
       "V28       0.001805\n",
       "V19       0.001477\n",
       "Amount    0.001399\n",
       "V20       0.001274\n",
       "V23       0.000816\n",
       "V24       0.000725\n",
       "V25       0.000631\n",
       "V26       0.000546\n",
       "V13       0.000486\n",
       "V22       0.000473\n",
       "V15       0.000337\n",
       "dtype: float64"
      ]
     },
     "execution_count": 25,
     "metadata": {},
     "output_type": "execute_result"
    }
   ],
   "source": [
    "print(\"Mutual Information between Fraud and the Predictors\")\n",
    "#Mutual information is a non-parametric method to estimate the mutual dependence between two variables.\n",
    "#Mutual information of 0 indicates no dependence.\n",
    "#Higher values indicate higher dependence.\n",
    "#Source:sklearn User Guide\n",
    "\n",
    "from sklearn.feature_selection import mutual_info_classif as mic\n",
    "dependent_info=pd.Series(data=mic(X_train, y_train,random_state=0), index=X_train.columns)\n",
    "dependent_info.sort_values(ascending=False)"
   ]
  },
  {
   "cell_type": "markdown",
   "metadata": {},
   "source": [
    "### The five most correlated variables with Class are, in decreasing order, V17, V14, V12, V10, and V11"
   ]
  },
  {
   "cell_type": "markdown",
   "metadata": {},
   "source": [
    "## 3.2 Model Building"
   ]
  },
  {
   "cell_type": "code",
   "execution_count": 26,
   "metadata": {},
   "outputs": [
    {
     "name": "stdout",
     "output_type": "stream",
     "text": [
      "             V17       V14       V12       V10       V11\n",
      "0       0.207971 -0.311169 -0.617801  0.090794 -0.551600\n",
      "1      -0.114805 -0.143772  1.065235 -0.166974  1.612727\n",
      "2       1.109969 -0.165946  0.066084  0.207643  0.624501\n",
      "3      -0.684093 -0.287924  0.178228 -0.054952 -0.226487\n",
      "4      -0.237033 -1.119670  0.538196  0.753074 -0.822843\n",
      "...          ...       ...       ...       ...       ...\n",
      "284802  1.991691  4.626942  2.711941  4.356170 -1.593105\n",
      "284803 -0.025693 -0.675143  0.915802 -0.975926 -0.150189\n",
      "284804  0.313502 -0.510602  0.063119 -0.484782  0.411614\n",
      "284805  0.509928  0.449624 -0.962886 -0.399126 -1.933849\n",
      "284806 -0.660377 -0.084316 -0.031513 -0.915427 -1.040458\n",
      "\n",
      "[284807 rows x 5 columns]\n",
      "        Class\n",
      "0           0\n",
      "1           0\n",
      "2           0\n",
      "3           0\n",
      "4           0\n",
      "...       ...\n",
      "284802      0\n",
      "284803      0\n",
      "284804      0\n",
      "284805      0\n",
      "284806      0\n",
      "\n",
      "[284807 rows x 1 columns]\n"
     ]
    }
   ],
   "source": [
    "#Fetching only top 5 correlated variables\n",
    "col_list = [\"V17\",\"V14\",\"V12\",\"V10\",\"V11\"]\n",
    "X_obs = pd.DataFrame(dataset, columns = col_list)\n",
    "X_obs = X_obs.iloc[:(284807)]\n",
    "Y= pd.DataFrame(dataset, columns = [\"Class\"])\n",
    "Y = Y.iloc[:(284807)]\n",
    "print(X_obs)\n",
    "print(Y)"
   ]
  },
  {
   "cell_type": "code",
   "execution_count": 27,
   "metadata": {},
   "outputs": [],
   "source": [
    "X_obs=X_obs.to_numpy()\n",
    "Y=Y.to_numpy()"
   ]
  },
  {
   "cell_type": "code",
   "execution_count": 28,
   "metadata": {},
   "outputs": [
    {
     "name": "stdout",
     "output_type": "stream",
     "text": [
      "[[ 0.20797124 -0.31116935 -0.61780086  0.09079417 -0.55159953]\n",
      " [-0.11480466 -0.1437723   1.06523531 -0.16697441  1.61272666]\n",
      " [ 1.10996938 -0.16594592  0.06608369  0.20764287  0.62450146]\n",
      " ...\n",
      " [ 0.31350179 -0.51060184  0.06311886 -0.48478176  0.41161374]\n",
      " [ 0.50992846  0.44962444 -0.96288614 -0.39912565 -1.93384881]\n",
      " [-0.66037665 -0.08431647 -0.03151305 -0.91542665 -1.04045834]]\n",
      "(284807, 5)\n",
      "[[0]\n",
      " [0]\n",
      " [0]\n",
      " ...\n",
      " [0]\n",
      " [0]\n",
      " [0]]\n",
      "(284807, 1)\n"
     ]
    }
   ],
   "source": [
    "print(X_obs)\n",
    "print(X_obs.shape)\n",
    "print(Y)\n",
    "print(Y.shape)"
   ]
  },
  {
   "cell_type": "code",
   "execution_count": 29,
   "metadata": {},
   "outputs": [],
   "source": [
    "#Spliting into Training and test set\n",
    "from sklearn.model_selection import train_test_split\n",
    "train_x,test_x,train_y,test_y = train_test_split(X_obs, Y, test_size=0.2, random_state=0)"
   ]
  },
  {
   "cell_type": "code",
   "execution_count": 30,
   "metadata": {},
   "outputs": [
    {
     "name": "stdout",
     "output_type": "stream",
     "text": [
      "(227845, 5)\n",
      "(56962, 5)\n",
      "(227845, 1)\n",
      "(56962, 1)\n"
     ]
    }
   ],
   "source": [
    "print(train_x.shape)\n",
    "print(test_x.shape)\n",
    "print(train_y.shape)\n",
    "print(test_y.shape)"
   ]
  },
  {
   "cell_type": "code",
   "execution_count": 31,
   "metadata": {},
   "outputs": [],
   "source": [
    "nn_architecture = [\n",
    "    {\"layer_size\": 5, \"activation\": \"none\"}, # input layer\n",
    "    {\"layer_size\": 5, \"activation\": \"relu\"},\n",
    "    {\"layer_size\": 4, \"activation\": \"relu\"},\n",
    "    {\"layer_size\": 3, \"activation\": \"relu\"},\n",
    "    {\"layer_size\": 1, \"activation\": \"sigmoid\"}\n",
    "]"
   ]
  },
  {
   "cell_type": "code",
   "execution_count": 32,
   "metadata": {},
   "outputs": [],
   "source": [
    "def predict(X, y, parameters):    \n",
    "    m = X.shape[1]\n",
    "    n = len(parameters) // 2 # number of layers in the neural network\n",
    "    p = np.zeros((1,m))\n",
    "    \n",
    "    # Forward propagation\n",
    "    probas, caches = L_model_forward(X, parameters,nn_architecture)\n",
    "\n",
    "    \n",
    "    # convert probas to 0/1 predictions\n",
    "    for i in range(0, probas.shape[1]):\n",
    "        if probas[0,i] > 0.5:\n",
    "            p[0,i] = 1\n",
    "        else:\n",
    "            p[0,i] = 0\n",
    "    \n",
    "    #print results\n",
    "    #print (\"predictions: \" + str(p))\n",
    "    #print (\"true labels: \" + str(y))\n",
    "    print(\"Accuracy: \"  + str(np.sum((p == y)/m)*100) + \" %\")\n",
    "        \n",
    "    return p"
   ]
  },
  {
   "cell_type": "code",
   "execution_count": 38,
   "metadata": {},
   "outputs": [
    {
     "name": "stdout",
     "output_type": "stream",
     "text": [
      "Cost after iteration 0: 0.693147\n",
      "Cost after iteration 100: 0.537506\n",
      "Cost after iteration 200: 0.429369\n",
      "Cost after iteration 300: 0.352490\n",
      "Cost after iteration 400: 0.296298\n",
      "Cost after iteration 500: 0.254076\n",
      "Cost after iteration 600: 0.221532\n",
      "Cost after iteration 700: 0.195871\n",
      "Cost after iteration 800: 0.175228\n",
      "Cost after iteration 900: 0.158330\n",
      "Cost after iteration 1000: 0.144284\n",
      "Cost after iteration 1100: 0.132451\n",
      "Cost after iteration 1200: 0.122364\n",
      "Cost after iteration 1300: 0.113676\n",
      "Cost after iteration 1400: 0.106122\n",
      "Cost after iteration 1500: 0.099501\n",
      "Cost after iteration 1600: 0.093652\n",
      "Cost after iteration 1700: 0.088453\n",
      "Cost after iteration 1800: 0.083802\n",
      "Cost after iteration 1900: 0.079619\n",
      "Cost after iteration 2000: 0.075837\n",
      "Cost after iteration 2100: 0.072403\n",
      "Cost after iteration 2200: 0.069272\n",
      "Cost after iteration 2300: 0.066405\n",
      "Cost after iteration 2400: 0.063772\n",
      "Cost after iteration 2500: 0.061344\n"
     ]
    },
    {
     "data": {
      "image/png": "[encoded data removed]",
      "text/plain": [
       "<Figure size 432x288 with 1 Axes>"
      ]
     },
     "metadata": {
      "needs_background": "light"
     },
     "output_type": "display_data"
    }
   ],
   "source": [
    "parameters = L_layer_model(train_x.T,train_y.T,nn_architecture,num_iterations=2510,print_cost=True)"
   ]
  },
  {
   "cell_type": "code",
   "execution_count": 39,
   "metadata": {},
   "outputs": [
    {
     "name": "stdout",
     "output_type": "stream",
     "text": [
      "Accuracy: 99.82839210867036 %\n"
     ]
    }
   ],
   "source": [
    "pred_train = predict(train_x.T, train_y.T, parameters)"
   ]
  },
  {
   "cell_type": "code",
   "execution_count": 40,
   "metadata": {},
   "outputs": [
    {
     "name": "stdout",
     "output_type": "stream",
     "text": [
      "Accuracy: 99.8226888100839 %\n"
     ]
    }
   ],
   "source": [
    "pred_test = predict(test_x.T, test_y.T, parameters)"
   ]
  },
  {
   "cell_type": "markdown",
   "metadata": {},
   "source": [
    "## Further improvements\n",
    "    We can face the “overfitting” problem if the training dataset is not big enough. It means that the learned network doesn’t generalize to new examples that it has never seen. We can use regularization methods such as L2 regularization (it consists of appropriately modifying our cost function) or dropout ( it randomly shuts down some neurons in each iteration).\n",
    "\n",
    "    We used Gradient Descent to update the parameters and minimize the cost. You can learn more advanced optimization methods that can speed up learning and even get you to a better final value for the cost function for example:\n",
    "\n",
    "    Mini-batch gradient descent\n",
    "    Momentum\n",
    "    Adam optimizer"
   ]
  }
 ],
 "metadata": {
  "kernelspec": {
   "display_name": "Python 3",
   "language": "python",
   "name": "python3"
  },
  "language_info": {
   "codemirror_mode": {
    "name": "ipython",
    "version": 3
   },
   "file_extension": ".py",
   "mimetype": "text/x-python",
   "name": "python",
   "nbconvert_exporter": "python",
   "pygments_lexer": "ipython3",
   "version": "3.7.4"
  }
 },
 "nbformat": 4,
 "nbformat_minor": 2
}
